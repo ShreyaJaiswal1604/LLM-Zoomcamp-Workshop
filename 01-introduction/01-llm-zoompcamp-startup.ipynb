{
 "cells": [
  {
   "cell_type": "code",
   "execution_count": 31,
   "metadata": {},
   "outputs": [],
   "source": [
    "import openai \n",
    "from openai import OpenAI\n",
    "from dotenv import load_dotenv\n",
    "import os"
   ]
  },
  {
   "cell_type": "code",
   "execution_count": 32,
   "metadata": {},
   "outputs": [
    {
     "name": "stderr",
     "output_type": "stream",
     "text": [
      "Python-dotenv could not parse statement starting at line 1\n"
     ]
    },
    {
     "data": {
      "text/plain": [
       "False"
      ]
     },
     "execution_count": 32,
     "metadata": {},
     "output_type": "execute_result"
    }
   ],
   "source": [
    "load_dotenv()"
   ]
  },
  {
   "cell_type": "code",
   "execution_count": 33,
   "metadata": {},
   "outputs": [],
   "source": [
    "client = OpenAI(api_key = os.environ.get(\"OPENAI_API_KEY\"))"
   ]
  },
  {
   "cell_type": "code",
   "execution_count": 36,
   "metadata": {},
   "outputs": [],
   "source": [
    "response = client.chat.completions.create(\n",
    "    model='gpt-3.5-turbo',\n",
    "    messages=[{\"role\":\"user\", \"content\":\"is it too late to join the course?\"}]\n",
    ")"
   ]
  },
  {
   "cell_type": "code",
   "execution_count": 38,
   "metadata": {},
   "outputs": [
    {
     "data": {
      "text/plain": [
       "\"Whether it’s too late to join a course depends on several factors, including the specific deadlines for enrollment, the institution’s policies, and the nature of the course itself. Here are a few steps you can take to find out:\\n\\n1. **Check Deadlines**: Look up the enrollment deadlines on the institution’s website or syllabus for the course.\\n\\n2. **Contact the Instructor or Administration**: Reach out to the course instructor or the academic administration office to ask about the possibility of joining late. Sometimes exceptions can be made.\\n\\n3. **Consider Online Options**: If the course is online, there may be more flexibility with enrollment dates.\\n\\n4. **Discuss Coursework Catch-Up**: If you can join late, ask what steps you need to take to catch up on missed material and keep pace with the class.\\n\\n5. **Evaluate Your Schedule**: Ensure that joining late won’t severely impact your ability to keep up with coursework and other commitments.\\n\\nIt's always worth inquiring even if you're past the official deadline; some instructors may allow late enrollment or provide alternative solutions.\""
      ]
     },
     "execution_count": 38,
     "metadata": {},
     "output_type": "execute_result"
    }
   ],
   "source": [
    "response.choices[0].message.content"
   ]
  },
  {
   "cell_type": "code",
   "execution_count": null,
   "metadata": {},
   "outputs": [],
   "source": []
  }
 ],
 "metadata": {
  "kernelspec": {
   "display_name": "Python 3",
   "language": "python",
   "name": "python3"
  },
  "language_info": {
   "codemirror_mode": {
    "name": "ipython",
    "version": 3
   },
   "file_extension": ".py",
   "mimetype": "text/x-python",
   "name": "python",
   "nbconvert_exporter": "python",
   "pygments_lexer": "ipython3",
   "version": "3.11.6"
  }
 },
 "nbformat": 4,
 "nbformat_minor": 2
}
